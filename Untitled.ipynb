{
 "cells": [
  {
   "cell_type": "markdown",
   "metadata": {},
   "source": [
    "## Abstract"
   ]
  },
  {
   "cell_type": "code",
   "execution_count": 1,
   "metadata": {
    "collapsed": true
   },
   "outputs": [],
   "source": [
    "import pandas as pd\n",
    "import numpy as np"
   ]
  },
  {
   "cell_type": "code",
   "execution_count": 2,
   "metadata": {
    "collapsed": true
   },
   "outputs": [],
   "source": [
    "data = pd.read_csv('mnist_train.csv', header=None)\n",
    "labels = data.ix[:, 0]\n",
    "images= data.ix[:, 1:]"
   ]
  },
  {
   "cell_type": "code",
   "execution_count": 3,
   "metadata": {
    "collapsed": false
   },
   "outputs": [
    {
     "data": {
      "text/plain": [
       "0        5\n",
       "1        0\n",
       "2        4\n",
       "3        1\n",
       "4        9\n",
       "5        2\n",
       "6        1\n",
       "7        3\n",
       "8        1\n",
       "9        4\n",
       "10       3\n",
       "11       5\n",
       "12       3\n",
       "13       6\n",
       "14       1\n",
       "15       7\n",
       "16       2\n",
       "17       8\n",
       "18       6\n",
       "19       9\n",
       "20       4\n",
       "21       0\n",
       "22       9\n",
       "23       1\n",
       "24       1\n",
       "25       2\n",
       "26       4\n",
       "27       3\n",
       "28       2\n",
       "29       7\n",
       "        ..\n",
       "59970    2\n",
       "59971    2\n",
       "59972    0\n",
       "59973    9\n",
       "59974    2\n",
       "59975    4\n",
       "59976    6\n",
       "59977    7\n",
       "59978    3\n",
       "59979    1\n",
       "59980    3\n",
       "59981    6\n",
       "59982    6\n",
       "59983    2\n",
       "59984    1\n",
       "59985    2\n",
       "59986    6\n",
       "59987    0\n",
       "59988    7\n",
       "59989    8\n",
       "59990    9\n",
       "59991    2\n",
       "59992    9\n",
       "59993    5\n",
       "59994    1\n",
       "59995    8\n",
       "59996    3\n",
       "59997    5\n",
       "59998    6\n",
       "59999    8\n",
       "Name: 0, dtype: int64"
      ]
     },
     "execution_count": 3,
     "metadata": {},
     "output_type": "execute_result"
    }
   ],
   "source": [
    "labels"
   ]
  },
  {
   "cell_type": "code",
   "execution_count": null,
   "metadata": {
    "collapsed": true
   },
   "outputs": [],
   "source": []
  }
 ],
 "metadata": {
  "kernelspec": {
   "display_name": "Python 2",
   "language": "python",
   "name": "python2"
  },
  "language_info": {
   "codemirror_mode": {
    "name": "ipython",
    "version": 2
   },
   "file_extension": ".py",
   "mimetype": "text/x-python",
   "name": "python",
   "nbconvert_exporter": "python",
   "pygments_lexer": "ipython2",
   "version": "2.7.13"
  }
 },
 "nbformat": 4,
 "nbformat_minor": 2
}
